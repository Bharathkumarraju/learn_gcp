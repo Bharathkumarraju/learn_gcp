{
 "cells": [
  {
   "cell_type": "markdown",
   "metadata": {},
   "source": [
    "#### Install client library for the Google API"
   ]
  },
  {
   "cell_type": "code",
   "execution_count": 1,
   "metadata": {},
   "outputs": [
    {
     "name": "stdout",
     "output_type": "stream",
     "text": [
      "\u001B[33mDEPRECATION: Python 2.7 reached the end of its life on January 1st, 2020. Please upgrade your Python as Python 2.7 is no longer maintained. pip 21.0 will drop support for Python 2.7 in January 2021. More details about Python 2 support in pip, can be found at https://pip.pypa.io/en/latest/development/release-process/#python-2-support\u001B[0m\r\n",
      "Defaulting to user installation because normal site-packages is not writeable\r\n",
      "Collecting google-api-python-client\r\n",
      "  Downloading google_api_python_client-1.10.0-py2.py3-none-any.whl (60 kB)\r\n",
      "\u001B[K     |████████████████████████████████| 60 kB 811 kB/s eta 0:00:011\r\n",
      "\u001B[?25hRequirement already satisfied, skipping upgrade: google-api-core<2dev,>=1.18.0 in /Users/bharathkumarraju/Library/Python/2.7/lib/python/site-packages (from google-api-python-client) (1.21.0)\r\n",
      "Requirement already satisfied, skipping upgrade: google-auth>=1.16.0 in /Users/bharathkumarraju/Library/Python/2.7/lib/python/site-packages (from google-api-python-client) (1.18.0)\r\n",
      "Requirement already satisfied, skipping upgrade: six<2dev,>=1.6.1 in /System/Library/Frameworks/Python.framework/Versions/2.7/Extras/lib/python (from google-api-python-client) (1.12.0)\r\n",
      "Requirement already satisfied, skipping upgrade: httplib2<1dev,>=0.9.2 in /Users/bharathkumarraju/Library/Python/2.7/lib/python/site-packages (from google-api-python-client) (0.18.1)\r\n",
      "Requirement already satisfied, skipping upgrade: google-auth-httplib2>=0.0.3 in /Users/bharathkumarraju/Library/Python/2.7/lib/python/site-packages (from google-api-python-client) (0.0.3)\r\n",
      "Requirement already satisfied, skipping upgrade: uritemplate<4dev,>=3.0.0 in /Users/bharathkumarraju/Library/Python/2.7/lib/python/site-packages (from google-api-python-client) (3.0.1)\r\n",
      "Requirement already satisfied, skipping upgrade: googleapis-common-protos<2.0dev,>=1.6.0 in /Users/bharathkumarraju/Library/Python/2.7/lib/python/site-packages (from google-api-core<2dev,>=1.18.0->google-api-python-client) (1.52.0)\r\n",
      "Requirement already satisfied, skipping upgrade: futures>=3.2.0; python_version < \"3.2\" in /Users/bharathkumarraju/Library/Python/2.7/lib/python/site-packages (from google-api-core<2dev,>=1.18.0->google-api-python-client) (3.3.0)\r\n",
      "Requirement already satisfied, skipping upgrade: requests<3.0.0dev,>=2.18.0 in /Users/bharathkumarraju/Library/Python/2.7/lib/python/site-packages (from google-api-core<2dev,>=1.18.0->google-api-python-client) (2.24.0)\r\n",
      "Requirement already satisfied, skipping upgrade: protobuf>=3.12.0 in /Users/bharathkumarraju/Library/Python/2.7/lib/python/site-packages (from google-api-core<2dev,>=1.18.0->google-api-python-client) (3.12.2)\r\n",
      "Requirement already satisfied, skipping upgrade: pytz in /System/Library/Frameworks/Python.framework/Versions/2.7/Extras/lib/python (from google-api-core<2dev,>=1.18.0->google-api-python-client) (2013.7)\r\n",
      "Requirement already satisfied, skipping upgrade: setuptools>=34.0.0 in /System/Library/Frameworks/Python.framework/Versions/2.7/Extras/lib/python (from google-api-core<2dev,>=1.18.0->google-api-python-client) (41.0.1)\r\n",
      "Requirement already satisfied, skipping upgrade: rsa<4.1; python_version < \"3\" in /Users/bharathkumarraju/Library/Python/2.7/lib/python/site-packages (from google-auth>=1.16.0->google-api-python-client) (3.4.2)\r\n",
      "Requirement already satisfied, skipping upgrade: pyasn1-modules>=0.2.1 in /Users/bharathkumarraju/Library/Python/2.7/lib/python/site-packages (from google-auth>=1.16.0->google-api-python-client) (0.2.8)\r\n",
      "Requirement already satisfied, skipping upgrade: cachetools<5.0,>=2.0.0 in /Users/bharathkumarraju/Library/Python/2.7/lib/python/site-packages (from google-auth>=1.16.0->google-api-python-client) (3.1.1)\r\n",
      "Requirement already satisfied, skipping upgrade: urllib3!=1.25.0,!=1.25.1,<1.26,>=1.21.1 in /Users/bharathkumarraju/Library/Python/2.7/lib/python/site-packages (from requests<3.0.0dev,>=2.18.0->google-api-core<2dev,>=1.18.0->google-api-python-client) (1.25.9)\r\n",
      "Requirement already satisfied, skipping upgrade: certifi>=2017.4.17 in /Users/bharathkumarraju/Library/Python/2.7/lib/python/site-packages (from requests<3.0.0dev,>=2.18.0->google-api-core<2dev,>=1.18.0->google-api-python-client) (2020.6.20)\r\n",
      "Requirement already satisfied, skipping upgrade: chardet<4,>=3.0.2 in /Users/bharathkumarraju/Library/Python/2.7/lib/python/site-packages (from requests<3.0.0dev,>=2.18.0->google-api-core<2dev,>=1.18.0->google-api-python-client) (3.0.4)\r\n",
      "Requirement already satisfied, skipping upgrade: idna<3,>=2.5 in /Users/bharathkumarraju/Library/Python/2.7/lib/python/site-packages (from requests<3.0.0dev,>=2.18.0->google-api-core<2dev,>=1.18.0->google-api-python-client) (2.9)\r\n",
      "Requirement already satisfied, skipping upgrade: pyasn1>=0.1.3 in /Users/bharathkumarraju/Library/Python/2.7/lib/python/site-packages (from rsa<4.1; python_version < \"3\"->google-auth>=1.16.0->google-api-python-client) (0.4.8)\r\n",
      "Installing collected packages: google-api-python-client\r\n",
      "  Attempting uninstall: google-api-python-client\r\n",
      "    Found existing installation: google-api-python-client 1.9.3\r\n",
      "    Uninstalling google-api-python-client-1.9.3:\r\n",
      "      Successfully uninstalled google-api-python-client-1.9.3\r\n",
      "Successfully installed google-api-python-client-1.10.0\r\n"
     ]
    }
   ],
   "source": [
    "!pip install --upgrade google-api-python-client"
   ]
  },
  {
   "cell_type": "markdown",
   "metadata": {},
   "source": [
    "#### Import required libraries and objects\n",
    "* The <b>requests</b> module will be required for us to make our own REST API calls\n",
    "* The <b>google.oauth2.servie_account</b> object allows us to generate credentials from a service account file\n",
    "* The <b>googleapiclient.discovery</b> allows us to connected to available GCP services"
   ]
  },
  {
   "cell_type": "code",
   "execution_count": 2,
   "metadata": {
    "collapsed": true
   },
   "outputs": [
    {
     "ename": "ModuleNotFoundError",
     "evalue": "No module named 'requests'",
     "output_type": "error",
     "traceback": [
      "\u001B[0;31m---------------------------------------------------------------------------\u001B[0m",
      "\u001B[0;31mModuleNotFoundError\u001B[0m                       Traceback (most recent call last)",
      "\u001B[0;32m<ipython-input-2-49be9ca04574>\u001B[0m in \u001B[0;36m<module>\u001B[0;34m\u001B[0m\n\u001B[0;32m----> 1\u001B[0;31m \u001B[0;32mimport\u001B[0m \u001B[0mrequests\u001B[0m\u001B[0;34m\u001B[0m\u001B[0;34m\u001B[0m\u001B[0m\n\u001B[0m\u001B[1;32m      2\u001B[0m \u001B[0;34m\u001B[0m\u001B[0m\n\u001B[1;32m      3\u001B[0m \u001B[0;32mfrom\u001B[0m \u001B[0mgoogle\u001B[0m\u001B[0;34m.\u001B[0m\u001B[0moauth2\u001B[0m \u001B[0;32mimport\u001B[0m \u001B[0mservice_account\u001B[0m\u001B[0;34m\u001B[0m\u001B[0;34m\u001B[0m\u001B[0m\n\u001B[1;32m      4\u001B[0m \u001B[0;32mimport\u001B[0m \u001B[0mgoogleapiclient\u001B[0m\u001B[0;34m.\u001B[0m\u001B[0mdiscovery\u001B[0m\u001B[0;34m\u001B[0m\u001B[0;34m\u001B[0m\u001B[0m\n\u001B[1;32m      5\u001B[0m \u001B[0;34m\u001B[0m\u001B[0m\n",
      "\u001B[0;31mModuleNotFoundError\u001B[0m: No module named 'requests'"
     ]
    }
   ],
   "source": [
    "import requests\n",
    "\n",
    "from google.oauth2 import service_account\n",
    "import googleapiclient.discovery"
   ]
  },
  {
   "cell_type": "markdown",
   "metadata": {},
   "source": [
    "#### Set the details required to generate credentials\n",
    "Possible scopes to use with the billing API:\n",
    "* https://www.googleapis.com/auth/cloud-platform\n",
    "* https://www.googleapis.com/auth/cloud-billing\n",
    "* https://www.googleapis.com/auth/cloud-billing.readonly"
   ]
  },
  {
   "cell_type": "code",
   "execution_count": null,
   "metadata": {
    "collapsed": true
   },
   "outputs": [],
   "source": [
    "SCOPES = ['https://www.googleapis.com/auth/cloud-billing']\n",
    "\n",
    "SERVICE_ACCOUNT_FILE = 'service-account-file.json'"
   ]
  },
  {
   "cell_type": "markdown",
   "metadata": {},
   "source": [
    "#### Generate credentials"
   ]
  },
  {
   "cell_type": "code",
   "execution_count": null,
   "metadata": {},
   "outputs": [],
   "source": [
    "credentials = service_account\\\n",
    "              .Credentials\\\n",
    "              .from_service_account_file(SERVICE_ACCOUNT_FILE, \n",
    "                                         scopes = SCOPES)\n",
    "        \n",
    "credentials"
   ]
  },
  {
   "cell_type": "markdown",
   "metadata": {},
   "source": [
    "#### Connect to the billing account service"
   ]
  },
  {
   "cell_type": "code",
   "execution_count": null,
   "metadata": {},
   "outputs": [],
   "source": [
    "billing_service = googleapiclient\\\n",
    "                  .discovery\\\n",
    "                  .build('cloudbilling', \n",
    "                         'v1', \n",
    "                         credentials = credentials)\n",
    "\n",
    "billing_service"
   ]
  },
  {
   "cell_type": "code",
   "execution_count": null,
   "metadata": {},
   "outputs": [],
   "source": [
    "billing_service.billingAccounts()"
   ]
  },
  {
   "cell_type": "markdown",
   "metadata": {
    "collapsed": true
   },
   "source": [
    "#### The list() function lists the billing accounts associated with the user\n",
    "This returns an HttpRequest object which needs to be executed to send the request (and get a response from) the billing service"
   ]
  },
  {
   "cell_type": "code",
   "execution_count": null,
   "metadata": {},
   "outputs": [],
   "source": [
    "billing_service.billingAccounts()\\\n",
    "               .list()"
   ]
  },
  {
   "cell_type": "code",
   "execution_count": null,
   "metadata": {},
   "outputs": [],
   "source": [
    "billing_service.billingAccounts()\\\n",
    "               .list()\\\n",
    "               .execute()"
   ]
  },
  {
   "cell_type": "markdown",
   "metadata": {},
   "source": [
    "#### Get the projects linked to a billing account"
   ]
  },
  {
   "cell_type": "code",
   "execution_count": null,
   "metadata": {},
   "outputs": [],
   "source": [
    "projects = billing_service.billingAccounts()\\\n",
    "                          .projects()\\\n",
    "                          .list(name = 'billingAccounts/010F91-8460C4-934F45')\\\n",
    "                          .execute()\n",
    "\n",
    "projects"
   ]
  },
  {
   "cell_type": "markdown",
   "metadata": {},
   "source": [
    "#### Get the billing info for a project"
   ]
  },
  {
   "cell_type": "code",
   "execution_count": null,
   "metadata": {},
   "outputs": [],
   "source": [
    "proj_billing = billing_service\\\n",
    "               .projects()\\\n",
    "               .getBillingInfo(name = 'projects/spikey-dev')\\\n",
    "               .execute()\n",
    "            \n",
    "proj_billing"
   ]
  },
  {
   "cell_type": "markdown",
   "metadata": {},
   "source": [
    "#### Examine the access token in the credentials object\n",
    "We will need to use this in a REST API call"
   ]
  },
  {
   "cell_type": "code",
   "execution_count": null,
   "metadata": {},
   "outputs": [],
   "source": [
    "credentials.token"
   ]
  },
  {
   "cell_type": "markdown",
   "metadata": {},
   "source": [
    "#### Generate the headers for a REST call\n",
    "Which includes the access token"
   ]
  },
  {
   "cell_type": "code",
   "execution_count": null,
   "metadata": {},
   "outputs": [],
   "source": [
    "headers = {'Authorization': 'Bearer %s' % credentials.token }\n",
    "headers"
   ]
  },
  {
   "cell_type": "markdown",
   "metadata": {},
   "source": [
    "#### Make a GET request\n",
    "Get the list of billing accounts for the user - similar to what we did previously with the client library"
   ]
  },
  {
   "cell_type": "code",
   "execution_count": null,
   "metadata": {},
   "outputs": [],
   "source": [
    "response = requests.get('https://cloudbilling.googleapis.com/v1/billingAccounts', \n",
    "                        headers = headers)\n",
    "\n",
    "print(response.text)"
   ]
  },
  {
   "cell_type": "markdown",
   "metadata": {},
   "source": [
    "#### Get the projects linked to a billing account\n",
    "Also done previously with the client library"
   ]
  },
  {
   "cell_type": "code",
   "execution_count": null,
   "metadata": {},
   "outputs": [],
   "source": [
    "url = \"https://cloudbilling.googleapis.com/v1/billingAccounts/010F91-8460C4-934F45/projects\"\n",
    "\n",
    "url"
   ]
  },
  {
   "cell_type": "code",
   "execution_count": null,
   "metadata": {},
   "outputs": [],
   "source": [
    "response = requests.get(url,\n",
    "                        headers = headers)\n",
    "\n",
    "print(response.text)"
   ]
  },
  {
   "cell_type": "markdown",
   "metadata": {},
   "source": [
    "#### Create a POST request to change the billing account for a project\n",
    "Use the json library to create the body for the POST request"
   ]
  },
  {
   "cell_type": "code",
   "execution_count": null,
   "metadata": {
    "collapsed": true
   },
   "outputs": [],
   "source": [
    "import json"
   ]
  },
  {
   "cell_type": "code",
   "execution_count": null,
   "metadata": {
    "collapsed": true
   },
   "outputs": [],
   "source": [
    "body_dict = {\n",
    "              \"name\": \"projects/spikey-dev/billingInfo\",\n",
    "              \"projectId\": \"spikey-dev\",\n",
    "              \"billingAccountName\": \"billingAccounts/01EB73-BD73AE-23D5A1\",\n",
    "              \"billingEnabled\": False\n",
    "            }"
   ]
  },
  {
   "cell_type": "code",
   "execution_count": null,
   "metadata": {},
   "outputs": [],
   "source": [
    "body_json = json.dumps(body_dict)\n",
    "\n",
    "body_json"
   ]
  },
  {
   "cell_type": "code",
   "execution_count": null,
   "metadata": {},
   "outputs": [],
   "source": [
    "url = \"https://cloudbilling.googleapis.com/v1/projects/spikey-dev/billingInfo\"\n",
    "    \n",
    "response = requests.put(url, \n",
    "                        headers = headers, \n",
    "                        data = body_json)\n",
    "\n",
    "print(response.text)"
   ]
  },
  {
   "cell_type": "code",
   "execution_count": null,
   "metadata": {},
   "outputs": [],
   "source": [
    "url = \"https://cloudbilling.googleapis.com/v1/billingAccounts/010F91-8460C4-934F45/projects\"\n",
    "    \n",
    "response = requests.get(url, \n",
    "                        headers = headers)\n",
    "\n",
    "print(response.text)"
   ]
  },
  {
   "cell_type": "code",
   "execution_count": null,
   "metadata": {},
   "outputs": [],
   "source": [
    "response = requests.get('https://cloudbilling.googleapis.com/v1/services', \n",
    "                        headers = headers)\n",
    "\n",
    "print(response.text)"
   ]
  },
  {
   "cell_type": "code",
   "execution_count": null,
   "metadata": {},
   "outputs": [],
   "source": [
    "response = requests.get('https://cloudbilling.googleapis.com/v1/services/04C4-B046-D8B2/skus', \n",
    "                        headers = headers)\n",
    "\n",
    "print(response.text)"
   ]
  },
  {
   "cell_type": "code",
   "execution_count": null,
   "metadata": {
    "collapsed": true
   },
   "outputs": [],
   "source": []
  }
 ],
 "metadata": {
  "kernelspec": {
   "name": "pycharm-2e64f5d8",
   "language": "python",
   "display_name": "PyCharm (learn_gcp)"
  },
  "language_info": {
   "codemirror_mode": {
    "name": "ipython",
    "version": 3
   },
   "file_extension": ".py",
   "mimetype": "text/x-python",
   "name": "python",
   "nbconvert_exporter": "python",
   "pygments_lexer": "ipython3",
   "version": "3.6.3"
  }
 },
 "nbformat": 4,
 "nbformat_minor": 2
}